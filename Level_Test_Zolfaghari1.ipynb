{
  "cells": [
    {
      "cell_type": "markdown",
      "metadata": {
        "id": "9ZUrtR3u4Ivj"
      },
      "source": [
        "![alt text](https://apac.ee.kntu.ac.ir/wp-content/uploads/2024/09/apacgroup-logo.svg)"
      ]
    },
    {
      "cell_type": "markdown",
      "metadata": {
        "id": "CDwLw6HB4Ivo"
      },
      "source": [
        "# Level Test\n",
        "### Note: people who can answer this test **do not** need to attend first 50 hour of Python course"
      ]
    },
    {
      "cell_type": "markdown",
      "metadata": {
        "id": "LSb04bfd4Ivq"
      },
      "source": [
        "The questions will be given and you sould code in the box below"
      ]
    },
    {
      "cell_type": "markdown",
      "metadata": {
        "id": "dlOcK-ja4Ivr"
      },
      "source": [
        "# Q1 :\n",
        "calaulate the mod of three digit prime number(choose on your own) to 2 and proof that it is True\n",
        "\n"
      ]
    },
    {
      "cell_type": "code",
      "execution_count": 1,
      "metadata": {
        "vscode": {
          "languageId": "plaintext"
        },
        "colab": {
          "base_uri": "https://localhost:8080/"
        },
        "id": "8QZ6Rzjt4Ivs",
        "outputId": "33ffbdfb-75c7-4984-ab3c-d1214d11e3fa"
      },
      "outputs": [
        {
          "output_type": "stream",
          "name": "stdout",
          "text": [
            "1\n"
          ]
        }
      ],
      "source": [
        "import math\n",
        "primeNumber = 103\n",
        "baseNumber = 2\n",
        "Res1 = math.floor(primeNumber/baseNumber)\n",
        "Res2 = Res1*baseNumber\n",
        "mod = primeNumber-Res2\n",
        "print(mod)"
      ]
    },
    {
      "cell_type": "markdown",
      "metadata": {
        "id": "Yd7j9U9_4Ivu"
      },
      "source": [
        "# Q2:\n",
        "code to get two string first print the type of input and then put them together(give it your name and last name)\n"
      ]
    },
    {
      "cell_type": "code",
      "execution_count": 4,
      "metadata": {
        "vscode": {
          "languageId": "plaintext"
        },
        "colab": {
          "base_uri": "https://localhost:8080/"
        },
        "id": "5qyhri-i4Ivv",
        "outputId": "5a1aa341-ee14-4d81-dad3-93b9349f1ea5"
      },
      "outputs": [
        {
          "output_type": "stream",
          "name": "stdout",
          "text": [
            "Enter your name: Mahdi\n",
            "<class 'str'>\n",
            "Enter your last name: Zolfaghari\n",
            "<class 'str'>\n",
            "Mahdi Zolfaghari\n"
          ]
        }
      ],
      "source": [
        "name = input(\"Enter your name: \")\n",
        "print(type(name))\n",
        "lastName = input(\"Enter your last name: \")\n",
        "print(type(lastName))\n",
        "print(name+' '+lastName)"
      ]
    },
    {
      "cell_type": "markdown",
      "metadata": {
        "id": "U_qJX3KS4Ivv"
      },
      "source": [
        "# Q3:\n",
        "create a list with 5 member and change the the three one to Iran"
      ]
    },
    {
      "cell_type": "code",
      "execution_count": 5,
      "metadata": {
        "vscode": {
          "languageId": "plaintext"
        },
        "colab": {
          "base_uri": "https://localhost:8080/"
        },
        "id": "e8e4MT1F4Ivw",
        "outputId": "f3bce18e-dcf3-4271-b42e-0b2687776b76"
      },
      "outputs": [
        {
          "output_type": "stream",
          "name": "stdout",
          "text": [
            "['Sweden', 'Italy', 'New Zealand', 'Germany', 'Denmark']\n",
            "['Iran', 'Iran', 'Iran', 'Germany', 'Denmark']\n"
          ]
        }
      ],
      "source": [
        "countryList = ['Sweden','Italy','New Zealand','Germany','Denmark']\n",
        "print(countryList)\n",
        "for i in range(len(countryList)):\n",
        "    for j in range(3):\n",
        "        countryList[j] = 'Iran'\n",
        "modifiedList = countryList\n",
        "print(modifiedList)"
      ]
    },
    {
      "cell_type": "markdown",
      "metadata": {
        "id": "5mHpoAHf4Ivx"
      },
      "source": [
        "# Q4:\n",
        "create a dictionary with 5 member assign a b c d e to 1 to 5 and print Dictionary items"
      ]
    },
    {
      "cell_type": "code",
      "execution_count": 10,
      "metadata": {
        "vscode": {
          "languageId": "plaintext"
        },
        "colab": {
          "base_uri": "https://localhost:8080/"
        },
        "id": "2TcR5Ukk4Ivx",
        "outputId": "3f2725dd-47a0-4137-fb0d-05c04f5f7c90"
      },
      "outputs": [
        {
          "output_type": "stream",
          "name": "stdout",
          "text": [
            "name is:  a\n",
            "value is:  1\n",
            "name is:  b\n",
            "value is:  2\n",
            "name is:  c\n",
            "value is:  3\n",
            "name is:  d\n",
            "value is:  4\n",
            "name is:  e\n",
            "value is:  5\n"
          ]
        }
      ],
      "source": [
        "myDic = {'a':1,'b':2,'c':3,'d':4,'e':5}\n",
        "for name,value in myDic.items():\n",
        "  print(\"name is: \",name)\n",
        "  print(\"value is: \",value)\n"
      ]
    },
    {
      "cell_type": "markdown",
      "metadata": {
        "id": "gaT2Fay14Ivy"
      },
      "source": [
        "# Q5:\n",
        "Open an existing file in your computer and print last line(you can make a txt file then do it)"
      ]
    },
    {
      "cell_type": "code",
      "execution_count": null,
      "metadata": {
        "vscode": {
          "languageId": "plaintext"
        },
        "id": "L2Kdbjeg4Ivy"
      },
      "outputs": [],
      "source": [
        "myFile = open(r'C:\\Users\\Zolfaghari.m\\Desktop\\myTest.txt')\n",
        "allLines = myFile.readlines()\n",
        "print(allLines[1])"
      ]
    },
    {
      "cell_type": "markdown",
      "metadata": {
        "id": "qyRkP1pd4Ivy"
      },
      "source": [
        "# Q6:\n",
        "Check 255 is greater than 188 and 255 is smaller than 189 in one line"
      ]
    },
    {
      "cell_type": "code",
      "execution_count": 32,
      "metadata": {
        "vscode": {
          "languageId": "plaintext"
        },
        "colab": {
          "base_uri": "https://localhost:8080/"
        },
        "id": "wJg93XPT4Ivy",
        "outputId": "5722f2a0-6f7c-419b-b98c-104460cf11eb"
      },
      "outputs": [
        {
          "output_type": "stream",
          "name": "stdout",
          "text": [
            "False\n"
          ]
        }
      ],
      "source": [
        "Result = (255>188)&(255<189)\n",
        "print((255>188)&(255<189))"
      ]
    },
    {
      "cell_type": "markdown",
      "metadata": {
        "id": "OPkeyKQZ4Ivy"
      },
      "source": [
        "# Q7:\n",
        "assign a your name to variable name person check it among your friends name if its true print 'HOORA'"
      ]
    },
    {
      "cell_type": "code",
      "execution_count": 33,
      "metadata": {
        "vscode": {
          "languageId": "plaintext"
        },
        "colab": {
          "base_uri": "https://localhost:8080/"
        },
        "id": "tEEEYPv44Ivz",
        "outputId": "f0de9f96-e264-4613-a25a-3a3597103150"
      },
      "outputs": [
        {
          "output_type": "stream",
          "name": "stdout",
          "text": [
            "Hoora!\n"
          ]
        }
      ],
      "source": [
        "namesList = ['Ali','Hadi','Mahdi']\n",
        "for name in namesList:\n",
        "    if name == 'Mahdi':\n",
        "        print('Hoora!')"
      ]
    },
    {
      "cell_type": "markdown",
      "metadata": {
        "id": "exAv38yp4Ivz"
      },
      "source": [
        "# Q8:\n",
        "create a list 1 to 10 then check for even numbers then print all using for loops"
      ]
    },
    {
      "cell_type": "code",
      "execution_count": 34,
      "metadata": {
        "vscode": {
          "languageId": "plaintext"
        },
        "colab": {
          "base_uri": "https://localhost:8080/"
        },
        "id": "k8zlXgIn4Iv0",
        "outputId": "8eb25172-45f5-4245-d79b-42764780e872"
      },
      "outputs": [
        {
          "output_type": "stream",
          "name": "stdout",
          "text": [
            "[2, 4, 6, 8, 10]\n"
          ]
        }
      ],
      "source": [
        "numbersList = [1,2,3,4,5,6,7,8,9,10]\n",
        "evenNumbers = []\n",
        "for number in numbersList:\n",
        "    if number%2 == 0:\n",
        "        evenNumbers.append(number)\n",
        "print(evenNumbers)"
      ]
    },
    {
      "cell_type": "markdown",
      "metadata": {
        "id": "1ixuibMk4Iv0"
      },
      "source": [
        "# Q9:\n",
        "consider x is 12 while x is between 10 to 15 print good else continue"
      ]
    },
    {
      "cell_type": "code",
      "execution_count": 35,
      "metadata": {
        "vscode": {
          "languageId": "plaintext"
        },
        "colab": {
          "base_uri": "https://localhost:8080/"
        },
        "id": "iK4mv8Z74Iv0",
        "outputId": "de76a47b-ef99-4cde-ec30-c2ebc207785d"
      },
      "outputs": [
        {
          "output_type": "stream",
          "name": "stdout",
          "text": [
            "good\n",
            "13\n",
            "good\n",
            "14\n",
            "good\n",
            "15\n"
          ]
        }
      ],
      "source": [
        "x = 12\n",
        "while (x>10) & (x<15):\n",
        "    print('good')\n",
        "    x= x+1\n",
        "    print(x)"
      ]
    },
    {
      "cell_type": "markdown",
      "metadata": {
        "id": "xMhsWvWI4Iv1"
      },
      "source": [
        "# Q10:\n",
        "make a list from 0 to 10000 with step of 100 using \"range\" shuffle this list and pick index 10"
      ]
    },
    {
      "cell_type": "code",
      "execution_count": 46,
      "metadata": {
        "vscode": {
          "languageId": "plaintext"
        },
        "colab": {
          "base_uri": "https://localhost:8080/"
        },
        "id": "sQ4ayvEa4Iv1",
        "outputId": "4482cc6c-abcf-408e-e178-b120df95084d"
      },
      "outputs": [
        {
          "output_type": "stream",
          "name": "stdout",
          "text": [
            "[0, 100, 200, 300, 400, 500, 600, 700, 800, 900, 1000, 1100, 1200, 1300, 1400, 1500, 1600, 1700, 1800, 1900, 2000, 2100, 2200, 2300, 2400, 2500, 2600, 2700, 2800, 2900, 3000, 3100, 3200, 3300, 3400, 3500, 3600, 3700, 3800, 3900, 4000, 4100, 4200, 4300, 4400, 4500, 4600, 4700, 4800, 4900, 5000, 5100, 5200, 5300, 5400, 5500, 5600, 5700, 5800, 5900, 6000, 6100, 6200, 6300, 6400, 6500, 6600, 6700, 6800, 6900, 7000, 7100, 7200, 7300, 7400, 7500, 7600, 7700, 7800, 7900, 8000, 8100, 8200, 8300, 8400, 8500, 8600, 8700, 8800, 8900, 9000, 9100, 9200, 9300, 9400, 9500, 9600, 9700, 9800, 9900]\n",
            "[4000, 9400, 0, 2100, 500, 1100, 3200, 9200, 4400, 9500, 2200, 2900, 200, 6000, 6200, 8600, 1800, 4500, 1000, 5500, 800, 2600, 1900, 2800, 4800, 4900, 7400, 8700, 3800, 100, 8300, 9300, 8000, 8800, 4100, 6600, 9800, 7100, 3100, 8400, 7900, 3400, 9000, 4700, 7300, 2700, 5100, 8100, 5700, 2400, 1400, 8900, 400, 2500, 4600, 1500, 1300, 3900, 5800, 6400, 1600, 3600, 7500, 5200, 900, 2300, 7200, 9900, 5600, 7600, 9100, 6100, 5000, 6700, 8500, 3500, 6500, 7000, 300, 4200, 600, 4300, 9600, 5300, 5400, 7800, 3000, 7700, 6800, 700, 9700, 6900, 3300, 2000, 1200, 1700, 6300, 3700, 8200, 5900]\n",
            "2200\n"
          ]
        }
      ],
      "source": [
        "import random\n",
        "longList = [i for i in range(0,10000,100)]\n",
        "print(longList)\n",
        "random.shuffle(longList)\n",
        "print(longList)\n",
        "print(longList[10])"
      ]
    },
    {
      "cell_type": "markdown",
      "metadata": {
        "id": "r5BfyUmH4Iv1"
      },
      "source": [
        "# Q11:\n",
        "Consider list of 1 to 5 append 6 in it and count even number in it using a function"
      ]
    },
    {
      "cell_type": "code",
      "execution_count": 48,
      "metadata": {
        "vscode": {
          "languageId": "plaintext"
        },
        "colab": {
          "base_uri": "https://localhost:8080/"
        },
        "id": "1shVhh7m4Iv1",
        "outputId": "8e9c9495-cda7-44e1-ea16-0af3d6a7f25b"
      },
      "outputs": [
        {
          "output_type": "stream",
          "name": "stdout",
          "text": [
            "[1, 2, 3, 4, 5, 6]\n",
            "[2, 4, 6, 8, 10]\n"
          ]
        }
      ],
      "source": [
        "List5 = [1,2,3,4,5]\n",
        "List5.append(6)\n",
        "print(List5)\n",
        "def evenNumFinder(List):\n",
        "    evenNumbers = []\n",
        "    for number in List:\n",
        "        if number % 2 == 0:\n",
        "            evenNumbers.append(number)\n",
        "print(evenNumbers)"
      ]
    },
    {
      "cell_type": "markdown",
      "metadata": {
        "id": "hzvosR934Iv2"
      },
      "source": [
        "# Q12:\n",
        "write a function that get string and uppercase the first letter if it's capital print it's True"
      ]
    },
    {
      "cell_type": "code",
      "execution_count": 54,
      "metadata": {
        "vscode": {
          "languageId": "plaintext"
        },
        "colab": {
          "base_uri": "https://localhost:8080/"
        },
        "id": "ZbAQ8xyA4Iv2",
        "outputId": "91c028aa-2dc3-4fb5-8db8-82ad89d2817a"
      },
      "outputs": [
        {
          "output_type": "stream",
          "name": "stdout",
          "text": [
            "Mahdi\n",
            "True!\n"
          ]
        }
      ],
      "source": [
        "def stringTaker(givenstring):\n",
        "    givenstring_cap=givenstring.capitalize()\n",
        "    print(givenstring_cap)\n",
        "    if givenstring.isupper():\n",
        "        print('True!')\n",
        "\n",
        "stringTaker('MAHDI')"
      ]
    }
  ],
  "metadata": {
    "language_info": {
      "name": "python"
    },
    "colab": {
      "provenance": []
    },
    "kernelspec": {
      "name": "python3",
      "display_name": "Python 3"
    }
  },
  "nbformat": 4,
  "nbformat_minor": 0
}